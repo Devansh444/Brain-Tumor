{
 "cells": [
  {
   "cell_type": "code",
   "execution_count": 16,
   "id": "7b63ce63",
   "metadata": {},
   "outputs": [],
   "source": [
    "# Step 1: Imports\n",
    "from dataclasses import dataclass\n",
    "from pathlib import Path\n",
    "import tensorflow as tf\n",
    "from tensorflow.keras.preprocessing.image import ImageDataGenerator \n",
    "from cnnClassifier.constants import *\n",
    "from cnnClassifier.utils.common import read_yaml, create_directories\n",
    "from cnnClassifier import logger\n"
   ]
  },
  {
   "cell_type": "code",
   "execution_count": 17,
   "id": "196e14c6",
   "metadata": {},
   "outputs": [],
   "source": [
    "from cnnClassifier.constants import *\n",
    "from Brain_tumor_classifier.utils.common import read_yaml, create_directories"
   ]
  },
  {
   "cell_type": "code",
   "execution_count": 18,
   "id": "ca7b0b2e",
   "metadata": {},
   "outputs": [],
   "source": [
    "# Step 2: Entity\n",
    "\n",
    "from dataclasses import dataclass\n",
    "from pathlib import Path\n",
    "\n",
    "@dataclass(frozen=True)\n",
    "class DataTransformationConfig:\n",
    "    root_dir: Path\n",
    "    train_data_dir: Path\n",
    "    test_data_dir: Path\n",
    "    img_height: int\n",
    "    img_width: int\n",
    "    batch_size: int\n",
    "    aug_params: dict\n"
   ]
  },
  {
   "cell_type": "code",
   "execution_count": 20,
   "id": "ca535d14",
   "metadata": {},
   "outputs": [],
   "source": [
    "# Step 3: Configuration Manager\n",
    "class ConfigurationManager:\n",
    "    def __init__(\n",
    "        self,\n",
    "        config_filepath = CONFIG_FILE_PATH,\n",
    "        params_filepath = PARAMS_FILE_PATH\n",
    "    ):\n",
    "        self.config = read_yaml(config_filepath)\n",
    "        self.params = read_yaml(params_filepath)\n",
    "\n",
    "        create_directories([self.config.artifacts_root])\n",
    "\n",
    "    def get_data_transformation_config(self) -> DataTransformationConfig:\n",
    "        config = self.config.data_transformation\n",
    "        params = self.params\n",
    "\n",
    "        create_directories([config.root_dir])\n",
    "\n",
    "        return DataTransformationConfig(\n",
    "            root_dir = config.root_dir,\n",
    "            train_data_dir = config.train_data_dir,\n",
    "            test_data_dir = config.test_data_dir,\n",
    "            img_height = params.IMAGE_SIZE,\n",
    "            img_width = params.IMAGE_SIZE,\n",
    "            batch_size = params.BATCH_SIZE,\n",
    "            aug_params = params.AUGMENTATION\n",
    "        )\n"
   ]
  },
  {
   "cell_type": "code",
   "execution_count": 21,
   "id": "e3f4e11a",
   "metadata": {},
   "outputs": [],
   "source": [
    "import os\n",
    "import urllib.request as request\n",
    "from zipfile import ZipFile\n",
    "import tensorflow as tf"
   ]
  },
  {
   "cell_type": "code",
   "execution_count": 22,
   "id": "5a42822b",
   "metadata": {},
   "outputs": [],
   "source": [
    "class DataTransformation:\n",
    "    def __init__(self, config: DataTransformationConfig):\n",
    "        self.config = config\n",
    "\n",
    "    def get_data_generators(self):\n",
    "        train_datagen = ImageDataGenerator(\n",
    "            rescale=1./255,\n",
    "            rotation_range=self.config.aug_params['rotation_range'],\n",
    "            width_shift_range=self.config.aug_params['width_shift_range'],\n",
    "            height_shift_range=self.config.aug_params['height_shift_range'],\n",
    "            shear_range=self.config.aug_params['shear_range'],\n",
    "            zoom_range=self.config.aug_params['zoom_range'],\n",
    "            horizontal_flip=self.config.aug_params['horizontal_flip'],\n",
    "            fill_mode='nearest'\n",
    "        )\n",
    "\n",
    "        test_datagen = ImageDataGenerator(rescale=1./255)\n",
    "\n",
    "        train_generator = train_datagen.flow_from_directory(\n",
    "            directory=str(self.config.train_data_dir),\n",
    "            target_size=(self.config.img_height, self.config.img_width),\n",
    "            batch_size=self.config.batch_size,\n",
    "            class_mode='categorical'\n",
    "        )\n",
    "\n",
    "        test_generator = test_datagen.flow_from_directory(\n",
    "            directory=str(self.config.test_data_dir),\n",
    "            target_size=(self.config.img_height, self.config.img_width),\n",
    "            batch_size=self.config.batch_size,\n",
    "            class_mode='categorical'\n",
    "        )\n",
    "\n",
    "        return train_generator, test_generator\n"
   ]
  },
  {
   "cell_type": "code",
   "execution_count": 11,
   "id": "4b14126a",
   "metadata": {},
   "outputs": [
    {
     "name": "stdout",
     "output_type": "stream",
     "text": [
      "c:\\Users\\devan\\Downloads\\Brain-Tumor-\\research\n"
     ]
    }
   ],
   "source": [
    "import os\n",
    "print(os.getcwd())\n"
   ]
  },
  {
   "cell_type": "code",
   "execution_count": 12,
   "id": "4244f05d",
   "metadata": {},
   "outputs": [],
   "source": [
    "os.chdir(\"../\")"
   ]
  },
  {
   "cell_type": "code",
   "execution_count": 23,
   "id": "4136b369",
   "metadata": {},
   "outputs": [
    {
     "name": "stdout",
     "output_type": "stream",
     "text": [
      "[2025-08-15 17:15:47,863: INFO: common: yaml file: config\\config.yaml loaded successfully]\n",
      "[2025-08-15 17:15:47,865: INFO: common: yaml file: params.yaml loaded successfully]\n",
      "[2025-08-15 17:15:47,867: INFO: common: created directory at: artifacts]\n",
      "[2025-08-15 17:15:47,868: INFO: common: created directory at: artifacts/data_transformation]\n",
      "Found 202 images belonging to 2 classes.\n",
      "Found 51 images belonging to 2 classes.\n",
      "[2025-08-15 17:15:47,900: INFO: 4222976568: Data Transformation completed successfully.]\n"
     ]
    }
   ],
   "source": [
    "# Step 5: Run pipeline in notebook\n",
    "try:\n",
    "    config = ConfigurationManager()\n",
    "    data_transformation_config = config.get_data_transformation_config()\n",
    "    data_transformation = DataTransformation(config=data_transformation_config)\n",
    "    train_gen, test_gen = data_transformation.get_data_generators()\n",
    "    logger.info(\"Data Transformation completed successfully.\")\n",
    "except Exception as e:\n",
    "    logger.exception(e)\n",
    "    raise e\n"
   ]
  }
 ],
 "metadata": {
  "kernelspec": {
   "display_name": "Python 3",
   "language": "python",
   "name": "python3"
  },
  "language_info": {
   "codemirror_mode": {
    "name": "ipython",
    "version": 3
   },
   "file_extension": ".py",
   "mimetype": "text/x-python",
   "name": "python",
   "nbconvert_exporter": "python",
   "pygments_lexer": "ipython3",
   "version": "3.10.0"
  }
 },
 "nbformat": 4,
 "nbformat_minor": 5
}
