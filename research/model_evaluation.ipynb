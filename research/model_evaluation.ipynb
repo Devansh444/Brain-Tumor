{
 "cells": [
  {
   "cell_type": "code",
   "execution_count": 7,
   "id": "95f6a52b",
   "metadata": {},
   "outputs": [
    {
     "data": {
      "text/plain": [
       "'c:\\\\Users\\\\devan\\\\Downloads\\\\Brain-Tumor-'"
      ]
     },
     "execution_count": 7,
     "metadata": {},
     "output_type": "execute_result"
    }
   ],
   "source": [
    "%pwd\n"
   ]
  },
  {
   "cell_type": "code",
   "execution_count": 6,
   "id": "6e8bb0d8",
   "metadata": {},
   "outputs": [],
   "source": [
    "import os\n",
    "os.chdir(\"../\")"
   ]
  },
  {
   "cell_type": "code",
   "execution_count": 13,
   "id": "985271ad",
   "metadata": {},
   "outputs": [
    {
     "name": "stdout",
     "output_type": "stream",
     "text": [
      "[2025-08-29 00:16:46,628: INFO: common: yaml file: config\\config.yaml loaded successfully]\n",
      "[2025-08-29 00:16:46,630: INFO: common: yaml file: params.yaml loaded successfully]\n",
      "[2025-08-29 00:16:46,633: INFO: common: created directory at: artifacts]\n",
      "[2025-08-29 00:16:46,783: WARNING: saving_utils: Compiled the loaded model, but the compiled metrics have yet to be built. `model.compile_metrics` will be empty until you train or evaluate the model.]\n",
      "Found 51 images belonging to 2 classes.\n",
      "\u001b[1m2/2\u001b[0m \u001b[32m━━━━━━━━━━━━━━━━━━━━\u001b[0m\u001b[37m\u001b[0m \u001b[1m4s\u001b[0m 1s/step - accuracy: 0.8039 - loss: 0.3917\n",
      "[2025-08-29 00:16:50,400: INFO: common: json file saved at: test_scores.json]\n",
      "Test accuracy: 80.39%\n"
     ]
    }
   ],
   "source": [
    "from dataclasses import dataclass\n",
    "from pathlib import Path\n",
    "import tensorflow as tf\n",
    "from Brain_tumor_classifier.constants import *\n",
    "from Brain_tumor_classifier.utils.common import read_yaml, create_directories, save_json\n",
    "\n",
    "# ---------------- CONFIG CLASS ----------------\n",
    "@dataclass(frozen=True)\n",
    "class EvaluationConfig:\n",
    "    path_of_model: Path\n",
    "    test_data: Path\n",
    "    all_params: dict\n",
    "    params_image_size: list\n",
    "    params_batch_size: int\n",
    "\n",
    "# ---------------- CONFIGURATION MANAGER ----------------\n",
    "class ConfigurationManager:\n",
    "    def __init__(\n",
    "        self, \n",
    "        config_filepath=CONFIG_FILE_PATH,\n",
    "        params_filepath=PARAMS_FILE_PATH\n",
    "    ):\n",
    "        self.config = read_yaml(config_filepath)\n",
    "        self.params = read_yaml(params_filepath)\n",
    "        create_directories([self.config.artifacts_root])\n",
    "\n",
    "    def get_evaluation_config(self) -> EvaluationConfig:\n",
    "        eval_config = EvaluationConfig(\n",
    "            path_of_model=\"artifacts/training/model.h5\",\n",
    "            test_data=\"artifacts/data_ingestion/brain_tumor_dataset/test\",  # full test set\n",
    "            all_params=self.params,\n",
    "            params_image_size=self.params.IMAGE_SIZE,\n",
    "            params_batch_size=self.params.BATCH_SIZE\n",
    "        )\n",
    "        return eval_config\n",
    "\n",
    "# ---------------- EVALUATION CLASS ----------------\n",
    "class Evaluation:\n",
    "    def __init__(self, config: EvaluationConfig):\n",
    "        self.config = config\n",
    "\n",
    "    def _test_generator(self):\n",
    "        # No validation split; entire test set\n",
    "        test_datagenerator = tf.keras.preprocessing.image.ImageDataGenerator(\n",
    "            rescale=1./255\n",
    "        )\n",
    "        dataflow_kwargs = dict(\n",
    "            target_size=self.config.params_image_size[:-1],\n",
    "            batch_size=self.config.params_batch_size,\n",
    "            shuffle=False,\n",
    "            class_mode=\"categorical\"\n",
    "        )\n",
    "\n",
    "        self.test_generator = test_datagenerator.flow_from_directory(\n",
    "            directory=self.config.test_data,\n",
    "            **dataflow_kwargs\n",
    "        )\n",
    "\n",
    "    @staticmethod\n",
    "    def load_model(path: Path) -> tf.keras.Model:\n",
    "        return tf.keras.models.load_model(path)\n",
    "\n",
    "    def evaluate(self):\n",
    "        self.model = self.load_model(self.config.path_of_model)\n",
    "        self._test_generator()\n",
    "        self.score = self.model.evaluate(self.test_generator)\n",
    "\n",
    "    def save_score(self):\n",
    "        scores = {\"loss\": self.score[0], \"accuracy\": self.score[1]}\n",
    "        save_json(path=Path(\"test_scores.json\"), data=scores)\n",
    "\n",
    "# ---------------- PIPELINE ----------------\n",
    "try:\n",
    "    config = ConfigurationManager()\n",
    "    eval_config = config.get_evaluation_config()\n",
    "    evaluation = Evaluation(eval_config)\n",
    "    evaluation.evaluate()\n",
    "    evaluation.save_score()\n",
    "    print(f\"Test accuracy: {evaluation.score[1]*100:.2f}%\")\n",
    "except Exception as e:\n",
    "    raise e\n"
   ]
  }
 ],
 "metadata": {
  "kernelspec": {
   "display_name": "Python 3",
   "language": "python",
   "name": "python3"
  },
  "language_info": {
   "codemirror_mode": {
    "name": "ipython",
    "version": 3
   },
   "file_extension": ".py",
   "mimetype": "text/x-python",
   "name": "python",
   "nbconvert_exporter": "python",
   "pygments_lexer": "ipython3",
   "version": "3.10.0"
  }
 },
 "nbformat": 4,
 "nbformat_minor": 5
}
